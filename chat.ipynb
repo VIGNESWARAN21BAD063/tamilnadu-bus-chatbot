{
 "cells": [
  {
   "cell_type": "code",
   "execution_count": 15,
   "id": "91df844d",
   "metadata": {},
   "outputs": [
    {
     "name": "stdout",
     "output_type": "stream",
     "text": [
      "Requirement already satisfied: deep-translator in c:\\users\\srimv\\appdata\\local\\programs\\python\\python310\\lib\\site-packages (1.11.4)\n",
      "Requirement already satisfied: beautifulsoup4<5.0.0,>=4.9.1 in c:\\users\\srimv\\appdata\\local\\programs\\python\\python310\\lib\\site-packages (from deep-translator) (4.11.1)\n",
      "Requirement already satisfied: requests<3.0.0,>=2.23.0 in c:\\users\\srimv\\appdata\\roaming\\python\\python310\\site-packages (from deep-translator) (2.27.1)\n",
      "Requirement already satisfied: soupsieve>1.2 in c:\\users\\srimv\\appdata\\local\\programs\\python\\python310\\lib\\site-packages (from beautifulsoup4<5.0.0,>=4.9.1->deep-translator) (2.3.2.post1)\n",
      "Requirement already satisfied: urllib3<1.27,>=1.21.1 in c:\\users\\srimv\\appdata\\roaming\\python\\python310\\site-packages (from requests<3.0.0,>=2.23.0->deep-translator) (1.26.9)\n",
      "Requirement already satisfied: certifi>=2017.4.17 in c:\\users\\srimv\\appdata\\roaming\\python\\python310\\site-packages (from requests<3.0.0,>=2.23.0->deep-translator) (2021.10.8)\n",
      "Requirement already satisfied: charset-normalizer~=2.0.0 in c:\\users\\srimv\\appdata\\roaming\\python\\python310\\site-packages (from requests<3.0.0,>=2.23.0->deep-translator) (2.0.12)\n",
      "Requirement already satisfied: idna<4,>=2.5 in c:\\users\\srimv\\appdata\\local\\programs\\python\\python310\\lib\\site-packages (from requests<3.0.0,>=2.23.0->deep-translator) (2.10)\n",
      "Note: you may need to restart the kernel to use updated packages.\n"
     ]
    },
    {
     "name": "stderr",
     "output_type": "stream",
     "text": [
      "\n",
      "[notice] A new release of pip is available: 23.1.2 -> 25.1.1\n",
      "[notice] To update, run: python.exe -m pip install --upgrade pip\n"
     ]
    }
   ],
   "source": [
    "pip install deep-translator\n"
   ]
  },
  {
   "cell_type": "code",
   "execution_count": 16,
   "id": "a6ff1d49",
   "metadata": {},
   "outputs": [
    {
     "name": "stderr",
     "output_type": "stream",
     "text": [
      "\n",
      "[notice] A new release of pip is available: 24.0 -> 25.1.1\n",
      "[notice] To update, run: C:\\Users\\srimv\\AppData\\Local\\Programs\\Python\\Python311\\python.exe -m pip install --upgrade pip\n"
     ]
    },
    {
     "name": "stdout",
     "output_type": "stream",
     "text": [
      "Requirement already satisfied: deep-translator in c:\\users\\srimv\\appdata\\local\\programs\\python\\python311\\lib\\site-packages (1.11.4)\n",
      "Requirement already satisfied: beautifulsoup4<5.0.0,>=4.9.1 in c:\\users\\srimv\\appdata\\local\\programs\\python\\python311\\lib\\site-packages (from deep-translator) (4.12.2)\n",
      "Requirement already satisfied: requests<3.0.0,>=2.23.0 in c:\\users\\srimv\\appdata\\local\\programs\\python\\python311\\lib\\site-packages (from deep-translator) (2.31.0)\n",
      "Requirement already satisfied: soupsieve>1.2 in c:\\users\\srimv\\appdata\\local\\programs\\python\\python311\\lib\\site-packages (from beautifulsoup4<5.0.0,>=4.9.1->deep-translator) (2.4.1)\n",
      "Requirement already satisfied: charset-normalizer<4,>=2 in c:\\users\\srimv\\appdata\\local\\programs\\python\\python311\\lib\\site-packages (from requests<3.0.0,>=2.23.0->deep-translator) (3.2.0)\n",
      "Requirement already satisfied: idna<4,>=2.5 in c:\\users\\srimv\\appdata\\local\\programs\\python\\python311\\lib\\site-packages (from requests<3.0.0,>=2.23.0->deep-translator) (3.4)\n",
      "Requirement already satisfied: urllib3<3,>=1.21.1 in c:\\users\\srimv\\appdata\\local\\programs\\python\\python311\\lib\\site-packages (from requests<3.0.0,>=2.23.0->deep-translator) (1.26.16)\n",
      "Requirement already satisfied: certifi>=2017.4.17 in c:\\users\\srimv\\appdata\\local\\programs\\python\\python311\\lib\\site-packages (from requests<3.0.0,>=2.23.0->deep-translator) (2023.7.22)\n",
      "Translated text: What is the time of Madurai bus from Chennai?\n",
      "Chatbot Reply:\n",
      " 🚌 **Bus Timing:** 6:00 AM, 12:00 PM, 6:00 PM\n",
      "💸 **Ticket Fare:** ₹350\n"
     ]
    }
   ],
   "source": [
    "# Install necessary packages\n",
    "!pip install deep-translator\n",
    "\n",
    "from deep_translator import GoogleTranslator\n",
    "\n",
    "# User query in Tamil\n",
    "query = \"சென்னை இருந்து மதுரை பஸ் நேரம் என்ன?\"\n",
    "\n",
    "# Translate to English\n",
    "translated = GoogleTranslator(source='auto', target='en').translate(query)\n",
    "print(\"Translated text:\", translated)\n",
    "\n",
    "\n",
    "# Predefined bus transport data\n",
    "bus_data = {\n",
    "    (\"chennai\", \"madurai\"): {\"timing\": \"6:00 AM, 12:00 PM, 6:00 PM\", \"fare\": \"₹350\"},\n",
    "    (\"chennai\", \"coimbatore\"): {\"timing\": \"5:30 AM, 1:00 PM, 9:00 PM\", \"fare\": \"₹400\"},\n",
    "    (\"chennai\", \"dharmapuri\"): {\"timing\": \"6:45 AM, 2:15 PM, 10:30 PM\", \"fare\": \"₹320\"},\n",
    "    (\"madurai\", \"trichy\"): {\"timing\": \"7:00 AM, 1:30 PM, 7:00 PM\", \"fare\": \"₹220\"},\n",
    "    (\"trichy\", \"coimbatore\"): {\"timing\": \"6:15 AM, 2:00 PM, 8:30 PM\", \"fare\": \"₹280\"},\n",
    "}\n",
    "\n",
    "# List of known places\n",
    "places = list({p for route in bus_data for p in route})\n",
    "\n",
    "\n",
    "# Extract source and destination places from query\n",
    "def extract_places(text):\n",
    "    found = [p for p in places if p in text]\n",
    "    if len(found) >= 2:\n",
    "        return found[0], found[1]\n",
    "    elif len(found) == 1:\n",
    "        return found[0], None\n",
    "    else:\n",
    "        return None, None\n",
    "\n",
    "\n",
    "# Reply logic\n",
    "def chatbot_reply(query):\n",
    "    query = query.lower()\n",
    "    from_place, to_place = extract_places(query)\n",
    "\n",
    "    if not from_place or not to_place:\n",
    "        return \"❗ Please mention both **source** and **destination** (e.g., 'Chennai to Madurai').\"\n",
    "\n",
    "    route = (from_place, to_place)\n",
    "    if route in bus_data:\n",
    "        info = bus_data[route]\n",
    "    elif (to_place, from_place) in bus_data:\n",
    "        info = bus_data[(to_place, from_place)]\n",
    "    else:\n",
    "        return f\"🚫 Sorry, we don't have data for **{from_place.title()} to {to_place.title()}**.\"\n",
    "\n",
    "    return f\"🚌 **Bus Timing:** {info['timing']}\\n💸 **Ticket Fare:** {info['fare']}\"\n",
    "\n",
    "\n",
    "# Get chatbot reply for translated text\n",
    "response = chatbot_reply(translated)\n",
    "print(\"Chatbot Reply:\\n\", response)\n",
    "\n"
   ]
  },
  {
   "cell_type": "code",
   "execution_count": null,
   "id": "26ca54d7",
   "metadata": {},
   "outputs": [],
   "source": []
  },
  {
   "cell_type": "code",
   "execution_count": null,
   "id": "76590508",
   "metadata": {},
   "outputs": [],
   "source": []
  }
 ],
 "metadata": {
  "kernelspec": {
   "display_name": "Python 3",
   "language": "python",
   "name": "python3"
  },
  "language_info": {
   "codemirror_mode": {
    "name": "ipython",
    "version": 3
   },
   "file_extension": ".py",
   "mimetype": "text/x-python",
   "name": "python",
   "nbconvert_exporter": "python",
   "pygments_lexer": "ipython3",
   "version": "3.10.2"
  }
 },
 "nbformat": 4,
 "nbformat_minor": 5
}
